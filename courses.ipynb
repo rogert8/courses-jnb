{
 "cells": [
  {
   "cell_type": "code",
   "execution_count": 1,
   "metadata": {
    "slideshow": {
     "slide_type": "skip"
    },
    "tags": [
     "hide-input"
    ]
   },
   "outputs": [],
   "source": [
    "import pandas as pd\n",
    "pd.set_option('display.max_rows', None)\n",
    "import matplotlib.pyplot as plt"
   ]
  },
  {
   "cell_type": "code",
   "execution_count": 2,
   "metadata": {
    "slideshow": {
     "slide_type": "skip"
    },
    "tags": [
     "hide-input"
    ]
   },
   "outputs": [],
   "source": [
    "df = pd.read_json(\"../courses.json\")\n",
    "# print(df[['index','title','date_completed']].to_string())\n",
    "# df[['index','title','date_completed']]"
   ]
  },
  {
   "cell_type": "markdown",
   "metadata": {
    "slideshow": {
     "slide_type": "slide"
    }
   },
   "source": [
    "# All Courses"
   ]
  },
  {
   "cell_type": "code",
   "execution_count": 3,
   "metadata": {
    "scrolled": false,
    "slideshow": {
     "slide_type": "subslide"
    },
    "tags": [
     "hide-input"
    ]
   },
   "outputs": [
    {
     "data": {
      "text/html": [
       "<div>\n",
       "<style scoped>\n",
       "    .dataframe tbody tr th:only-of-type {\n",
       "        vertical-align: middle;\n",
       "    }\n",
       "\n",
       "    .dataframe tbody tr th {\n",
       "        vertical-align: top;\n",
       "    }\n",
       "\n",
       "    .dataframe thead th {\n",
       "        text-align: right;\n",
       "    }\n",
       "</style>\n",
       "<table border=\"1\" class=\"dataframe\">\n",
       "  <thead>\n",
       "    <tr style=\"text-align: right;\">\n",
       "      <th></th>\n",
       "      <th>Course Title</th>\n",
       "      <th>Completion Date</th>\n",
       "    </tr>\n",
       "    <tr>\n",
       "      <th>#</th>\n",
       "      <th></th>\n",
       "      <th></th>\n",
       "    </tr>\n",
       "  </thead>\n",
       "  <tbody>\n",
       "    <tr>\n",
       "      <th>64</th>\n",
       "      <td>JSON Processing with Java EE</td>\n",
       "      <td>2021-05-04</td>\n",
       "    </tr>\n",
       "    <tr>\n",
       "      <th>63</th>\n",
       "      <td>Introducing Jupyter</td>\n",
       "      <td>2021-04-30</td>\n",
       "    </tr>\n",
       "    <tr>\n",
       "      <th>62</th>\n",
       "      <td>pandas Essential Training</td>\n",
       "      <td>2021-04-28</td>\n",
       "    </tr>\n",
       "    <tr>\n",
       "      <th>61</th>\n",
       "      <td>Data Ingestion with Python</td>\n",
       "      <td>2021-04-21</td>\n",
       "    </tr>\n",
       "    <tr>\n",
       "      <th>60</th>\n",
       "      <td>Learning JDBC</td>\n",
       "      <td>2021-04-15</td>\n",
       "    </tr>\n",
       "    <tr>\n",
       "      <th>59</th>\n",
       "      <td>Cloud Native Development with Node.js, Docker,...</td>\n",
       "      <td>2021-04-11</td>\n",
       "    </tr>\n",
       "    <tr>\n",
       "      <th>58</th>\n",
       "      <td>MySQL Essential Training</td>\n",
       "      <td>2021-04-05</td>\n",
       "    </tr>\n",
       "    <tr>\n",
       "      <th>57</th>\n",
       "      <td>MySQL Installation and Configuration</td>\n",
       "      <td>2021-04-03</td>\n",
       "    </tr>\n",
       "    <tr>\n",
       "      <th>56</th>\n",
       "      <td>Learning Bash Scripting</td>\n",
       "      <td>2021-04-02</td>\n",
       "    </tr>\n",
       "    <tr>\n",
       "      <th>55</th>\n",
       "      <td>Learning Windows Subsystem for Linux</td>\n",
       "      <td>2021-03-29</td>\n",
       "    </tr>\n",
       "    <tr>\n",
       "      <th>54</th>\n",
       "      <td>Blockchain Basics</td>\n",
       "      <td>2021-03-27</td>\n",
       "    </tr>\n",
       "    <tr>\n",
       "      <th>53</th>\n",
       "      <td>Designing RESTful APIs</td>\n",
       "      <td>2021-03-26</td>\n",
       "    </tr>\n",
       "    <tr>\n",
       "      <th>52</th>\n",
       "      <td>Learning Node.js</td>\n",
       "      <td>2021-03-25</td>\n",
       "    </tr>\n",
       "    <tr>\n",
       "      <th>51</th>\n",
       "      <td>Learning REST APIs</td>\n",
       "      <td>2021-03-19</td>\n",
       "    </tr>\n",
       "    <tr>\n",
       "      <th>50</th>\n",
       "      <td>Polyglot Web Development</td>\n",
       "      <td>2021-03-19</td>\n",
       "    </tr>\n",
       "    <tr>\n",
       "      <th>49</th>\n",
       "      <td>Python: XML, JSON, and the Web</td>\n",
       "      <td>2021-03-12</td>\n",
       "    </tr>\n",
       "    <tr>\n",
       "      <th>48</th>\n",
       "      <td>JavaScript and JSON: Integration Techniques</td>\n",
       "      <td>2021-03-08</td>\n",
       "    </tr>\n",
       "    <tr>\n",
       "      <th>47</th>\n",
       "      <td>JavaScript and AJAX: Integration Techniques</td>\n",
       "      <td>2021-03-06</td>\n",
       "    </tr>\n",
       "    <tr>\n",
       "      <th>46</th>\n",
       "      <td>Advanced PHP: Debugging Techniques</td>\n",
       "      <td>2021-03-03</td>\n",
       "    </tr>\n",
       "    <tr>\n",
       "      <th>45</th>\n",
       "      <td>Docker for Data Scientists</td>\n",
       "      <td>2021-02-25</td>\n",
       "    </tr>\n",
       "    <tr>\n",
       "      <th>44</th>\n",
       "      <td>Docker for .NET Developers with Visual Studio</td>\n",
       "      <td>2021-02-24</td>\n",
       "    </tr>\n",
       "    <tr>\n",
       "      <th>43</th>\n",
       "      <td>Learning PHP</td>\n",
       "      <td>2021-02-23</td>\n",
       "    </tr>\n",
       "    <tr>\n",
       "      <th>42</th>\n",
       "      <td>Advanced Java Programming</td>\n",
       "      <td>2021-02-18</td>\n",
       "    </tr>\n",
       "    <tr>\n",
       "      <th>41</th>\n",
       "      <td>C#: Interfaces and Generics</td>\n",
       "      <td>2021-02-10</td>\n",
       "    </tr>\n",
       "    <tr>\n",
       "      <th>40</th>\n",
       "      <td>C#: Delegates, Events and Lambdas</td>\n",
       "      <td>2021-02-07</td>\n",
       "    </tr>\n",
       "    <tr>\n",
       "      <th>39</th>\n",
       "      <td>C#: Collections</td>\n",
       "      <td>2021-02-04</td>\n",
       "    </tr>\n",
       "    <tr>\n",
       "      <th>38</th>\n",
       "      <td>Leading without Formal Authority</td>\n",
       "      <td>2021-02-01</td>\n",
       "    </tr>\n",
       "    <tr>\n",
       "      <th>37</th>\n",
       "      <td>Excel: Lookup Functions in Depth</td>\n",
       "      <td>2021-01-29</td>\n",
       "    </tr>\n",
       "    <tr>\n",
       "      <th>36</th>\n",
       "      <td>Excel: Power Pivot for Beginners</td>\n",
       "      <td>2021-01-27</td>\n",
       "    </tr>\n",
       "    <tr>\n",
       "      <th>35</th>\n",
       "      <td>Excel: PivotTables for Beginners</td>\n",
       "      <td>2021-01-26</td>\n",
       "    </tr>\n",
       "    <tr>\n",
       "      <th>34</th>\n",
       "      <td>Implementing a Data Warehouse SQL Server 2019</td>\n",
       "      <td>2021-01-19</td>\n",
       "    </tr>\n",
       "    <tr>\n",
       "      <th>33</th>\n",
       "      <td>IoT Foundations: Fundamentals</td>\n",
       "      <td>2021-01-18</td>\n",
       "    </tr>\n",
       "    <tr>\n",
       "      <th>32</th>\n",
       "      <td>SQL Server: Reporting Services</td>\n",
       "      <td>2021-01-18</td>\n",
       "    </tr>\n",
       "    <tr>\n",
       "      <th>31</th>\n",
       "      <td>SQL Server Integration Services</td>\n",
       "      <td>2021-01-15</td>\n",
       "    </tr>\n",
       "    <tr>\n",
       "      <th>30</th>\n",
       "      <td>Learning MongoDB</td>\n",
       "      <td>2021-01-08</td>\n",
       "    </tr>\n",
       "    <tr>\n",
       "      <th>29</th>\n",
       "      <td>SAP ERP Essential Training (2018)</td>\n",
       "      <td>2021-01-07</td>\n",
       "    </tr>\n",
       "    <tr>\n",
       "      <th>28</th>\n",
       "      <td>HTML5: Geolocation</td>\n",
       "      <td>2021-01-03</td>\n",
       "    </tr>\n",
       "    <tr>\n",
       "      <th>27</th>\n",
       "      <td>Python Essential Training</td>\n",
       "      <td>2021-01-01</td>\n",
       "    </tr>\n",
       "    <tr>\n",
       "      <th>26</th>\n",
       "      <td>Cloud Computing Careers and Certifications: Fi...</td>\n",
       "      <td>2020-12-24</td>\n",
       "    </tr>\n",
       "    <tr>\n",
       "      <th>25</th>\n",
       "      <td>Visual Studio Code for Python Developers</td>\n",
       "      <td>2020-12-21</td>\n",
       "    </tr>\n",
       "    <tr>\n",
       "      <th>24</th>\n",
       "      <td>jQuery for Web Designers</td>\n",
       "      <td>2020-12-19</td>\n",
       "    </tr>\n",
       "    <tr>\n",
       "      <th>23</th>\n",
       "      <td>JavaScript for Web Designers</td>\n",
       "      <td>2020-12-13</td>\n",
       "    </tr>\n",
       "    <tr>\n",
       "      <th>22</th>\n",
       "      <td>SQL Tips, Tricks, &amp; Techniques</td>\n",
       "      <td>2020-11-28</td>\n",
       "    </tr>\n",
       "    <tr>\n",
       "      <th>21</th>\n",
       "      <td>Learning JavaScript Debugging</td>\n",
       "      <td>2020-11-27</td>\n",
       "    </tr>\n",
       "    <tr>\n",
       "      <th>20</th>\n",
       "      <td>Succeeding in Web Development: Full Stack and ...</td>\n",
       "      <td>2020-11-20</td>\n",
       "    </tr>\n",
       "    <tr>\n",
       "      <th>19</th>\n",
       "      <td>Innovative Customer Service Techniques</td>\n",
       "      <td>2020-11-20</td>\n",
       "    </tr>\n",
       "    <tr>\n",
       "      <th>18</th>\n",
       "      <td>Learning Docker</td>\n",
       "      <td>2020-11-20</td>\n",
       "    </tr>\n",
       "    <tr>\n",
       "      <th>17</th>\n",
       "      <td>Learning GitHub</td>\n",
       "      <td>2020-11-09</td>\n",
       "    </tr>\n",
       "    <tr>\n",
       "      <th>16</th>\n",
       "      <td>Learning C++</td>\n",
       "      <td>2020-11-04</td>\n",
       "    </tr>\n",
       "    <tr>\n",
       "      <th>15</th>\n",
       "      <td>C# &amp; .NET: Programming</td>\n",
       "      <td>2020-10-23</td>\n",
       "    </tr>\n",
       "    <tr>\n",
       "      <th>14</th>\n",
       "      <td>Java Essential Training: Objects and APIs</td>\n",
       "      <td>2020-10-20</td>\n",
       "    </tr>\n",
       "    <tr>\n",
       "      <th>13</th>\n",
       "      <td>Learning Java</td>\n",
       "      <td>2020-10-17</td>\n",
       "    </tr>\n",
       "    <tr>\n",
       "      <th>12</th>\n",
       "      <td>Installing Apache, MySQL, and PHP</td>\n",
       "      <td>2020-10-17</td>\n",
       "    </tr>\n",
       "    <tr>\n",
       "      <th>11</th>\n",
       "      <td>Learning Regular Expressions</td>\n",
       "      <td>2020-10-13</td>\n",
       "    </tr>\n",
       "    <tr>\n",
       "      <th>10</th>\n",
       "      <td>Learning the JavaScript Language</td>\n",
       "      <td>2020-10-12</td>\n",
       "    </tr>\n",
       "    <tr>\n",
       "      <th>9</th>\n",
       "      <td>Phone-Based Customer Service</td>\n",
       "      <td>2020-10-09</td>\n",
       "    </tr>\n",
       "    <tr>\n",
       "      <th>8</th>\n",
       "      <td>Introduction to CSS</td>\n",
       "      <td>2020-10-09</td>\n",
       "    </tr>\n",
       "    <tr>\n",
       "      <th>7</th>\n",
       "      <td>Working with Upset Customers</td>\n",
       "      <td>2020-10-08</td>\n",
       "    </tr>\n",
       "    <tr>\n",
       "      <th>6</th>\n",
       "      <td>Learn API Documentation with JSON and XML</td>\n",
       "      <td>2020-10-05</td>\n",
       "    </tr>\n",
       "    <tr>\n",
       "      <th>5</th>\n",
       "      <td>Learning Python</td>\n",
       "      <td>2020-10-03</td>\n",
       "    </tr>\n",
       "    <tr>\n",
       "      <th>4</th>\n",
       "      <td>Visual Studio Code for Web Developers</td>\n",
       "      <td>2020-09-30</td>\n",
       "    </tr>\n",
       "    <tr>\n",
       "      <th>3</th>\n",
       "      <td>Learning PowerShell</td>\n",
       "      <td>2020-09-26</td>\n",
       "    </tr>\n",
       "    <tr>\n",
       "      <th>2</th>\n",
       "      <td>Technical Writing: Quick Start Guides</td>\n",
       "      <td>2020-09-25</td>\n",
       "    </tr>\n",
       "    <tr>\n",
       "      <th>1</th>\n",
       "      <td>Learning Linux Command Line</td>\n",
       "      <td>2020-09-25</td>\n",
       "    </tr>\n",
       "  </tbody>\n",
       "</table>\n",
       "</div>"
      ],
      "text/plain": [
       "                                         Course Title Completion Date\n",
       "#                                                                    \n",
       "64                       JSON Processing with Java EE      2021-05-04\n",
       "63                                Introducing Jupyter      2021-04-30\n",
       "62                          pandas Essential Training      2021-04-28\n",
       "61                         Data Ingestion with Python      2021-04-21\n",
       "60                                      Learning JDBC      2021-04-15\n",
       "59  Cloud Native Development with Node.js, Docker,...      2021-04-11\n",
       "58                           MySQL Essential Training      2021-04-05\n",
       "57               MySQL Installation and Configuration      2021-04-03\n",
       "56                            Learning Bash Scripting      2021-04-02\n",
       "55               Learning Windows Subsystem for Linux      2021-03-29\n",
       "54                                  Blockchain Basics      2021-03-27\n",
       "53                             Designing RESTful APIs      2021-03-26\n",
       "52                                   Learning Node.js      2021-03-25\n",
       "51                                 Learning REST APIs      2021-03-19\n",
       "50                           Polyglot Web Development      2021-03-19\n",
       "49                     Python: XML, JSON, and the Web      2021-03-12\n",
       "48        JavaScript and JSON: Integration Techniques      2021-03-08\n",
       "47        JavaScript and AJAX: Integration Techniques      2021-03-06\n",
       "46                 Advanced PHP: Debugging Techniques      2021-03-03\n",
       "45                         Docker for Data Scientists      2021-02-25\n",
       "44      Docker for .NET Developers with Visual Studio      2021-02-24\n",
       "43                                       Learning PHP      2021-02-23\n",
       "42                          Advanced Java Programming      2021-02-18\n",
       "41                        C#: Interfaces and Generics      2021-02-10\n",
       "40                  C#: Delegates, Events and Lambdas      2021-02-07\n",
       "39                                    C#: Collections      2021-02-04\n",
       "38                   Leading without Formal Authority      2021-02-01\n",
       "37                   Excel: Lookup Functions in Depth      2021-01-29\n",
       "36                   Excel: Power Pivot for Beginners      2021-01-27\n",
       "35                   Excel: PivotTables for Beginners      2021-01-26\n",
       "34      Implementing a Data Warehouse SQL Server 2019      2021-01-19\n",
       "33                      IoT Foundations: Fundamentals      2021-01-18\n",
       "32                     SQL Server: Reporting Services      2021-01-18\n",
       "31                    SQL Server Integration Services      2021-01-15\n",
       "30                                   Learning MongoDB      2021-01-08\n",
       "29                  SAP ERP Essential Training (2018)      2021-01-07\n",
       "28                                 HTML5: Geolocation      2021-01-03\n",
       "27                          Python Essential Training      2021-01-01\n",
       "26  Cloud Computing Careers and Certifications: Fi...      2020-12-24\n",
       "25           Visual Studio Code for Python Developers      2020-12-21\n",
       "24                           jQuery for Web Designers      2020-12-19\n",
       "23                       JavaScript for Web Designers      2020-12-13\n",
       "22                     SQL Tips, Tricks, & Techniques      2020-11-28\n",
       "21                      Learning JavaScript Debugging      2020-11-27\n",
       "20  Succeeding in Web Development: Full Stack and ...      2020-11-20\n",
       "19             Innovative Customer Service Techniques      2020-11-20\n",
       "18                                    Learning Docker      2020-11-20\n",
       "17                                    Learning GitHub      2020-11-09\n",
       "16                                       Learning C++      2020-11-04\n",
       "15                             C# & .NET: Programming      2020-10-23\n",
       "14          Java Essential Training: Objects and APIs      2020-10-20\n",
       "13                                      Learning Java      2020-10-17\n",
       "12                  Installing Apache, MySQL, and PHP      2020-10-17\n",
       "11                       Learning Regular Expressions      2020-10-13\n",
       "10                   Learning the JavaScript Language      2020-10-12\n",
       "9                        Phone-Based Customer Service      2020-10-09\n",
       "8                                 Introduction to CSS      2020-10-09\n",
       "7                        Working with Upset Customers      2020-10-08\n",
       "6           Learn API Documentation with JSON and XML      2020-10-05\n",
       "5                                     Learning Python      2020-10-03\n",
       "4               Visual Studio Code for Web Developers      2020-09-30\n",
       "3                                 Learning PowerShell      2020-09-26\n",
       "2               Technical Writing: Quick Start Guides      2020-09-25\n",
       "1                         Learning Linux Command Line      2020-09-25"
      ]
     },
     "execution_count": 3,
     "metadata": {},
     "output_type": "execute_result"
    }
   ],
   "source": [
    "cr = df.rename(columns={'index': '#', 'title': 'Course Title', 'date_completed': 'Completion Date'})\n",
    "# cr[['#','Course Title','Completion Date']]\n",
    "cr[['#','Course Title','Completion Date']].set_index('#')"
   ]
  },
  {
   "cell_type": "markdown",
   "metadata": {},
   "source": [
    "# All Skills Covered"
   ]
  },
  {
   "cell_type": "code",
   "execution_count": 4,
   "metadata": {
    "scrolled": false,
    "slideshow": {
     "slide_type": "skip"
    }
   },
   "outputs": [
    {
     "name": "stdout",
     "output_type": "stream",
     "text": [
      "\n",
      "\n",
      "Number of skills: 92\n",
      "\n",
      ".NET Framework\n",
      "AJAX\n",
      "Accountability\n",
      "Apache\n",
      "Application Programming Interfaces\n",
      "Back-End Web Development\n",
      "Bash\n",
      "Big Data\n",
      "Blockchain\n",
      "Business Analytics\n",
      "Business Intelligence (BI)\n",
      "C#\n",
      "C++\n",
      "Cascading Style Sheets (CSS)\n",
      "Cloud Application Development\n",
      "Cloud Computing\n",
      "Cloud Development\n",
      "Communication\n",
      "Computer Networking\n",
      "Containerization\n",
      "Customer Communication\n",
      "Customer Service\n",
      "Data Analysis\n",
      "Data Cleaning\n",
      "Data Ingestion\n",
      "Data Management\n",
      "Data Visualization\n",
      "Data Warehouse Architecture\n",
      "Data Warehousing\n",
      "Database Administration\n",
      "Database Design\n",
      "Database Development\n",
      "Database Management System (DBMS)\n",
      "Databases\n",
      "Docker Products\n",
      "Front-end Development\n",
      "Full-Stack Development\n",
      "Geographic Information Systems (GIS)\n",
      "Git\n",
      "GitHub\n",
      "HTML\n",
      "IT Automation\n",
      "IT Management\n",
      "IT Service Management\n",
      "Internet of Things (IoT)\n",
      "JSON\n",
      "Java\n",
      "JavaScript\n",
      "Kubernetes\n",
      "Leadership\n",
      "Linux\n",
      "Machine Learning\n",
      "Microsoft Excel\n",
      "Microsoft SQL Server\n",
      "Microsoft Visual Studio Code\n",
      "MongoDB\n",
      "MySQL\n",
      "Network Administration\n",
      "Node.js\n",
      "Object-Oriented Programming (OOP)\n",
      "PHP\n",
      "Pandas (Software)\n",
      "Pattern Matching\n",
      "Perl\n",
      "Phone Coverage\n",
      "Pivot Tables\n",
      "Polyglot\n",
      "PowerShell\n",
      "Python\n",
      "Python (Programming Language)\n",
      "REST APIs\n",
      "RESTful architecture\n",
      "Regular Expressions\n",
      "Ruby\n",
      "SAP ERP\n",
      "SQL\n",
      "SQL Server Integration Services (SSIS)\n",
      "SQL Server Reporting Services (SSRS)\n",
      "Shell Scripting\n",
      "Small Business Management\n",
      "Software Design\n",
      "Software Development\n",
      "Technical Writing\n",
      "Version Control\n",
      "Visual Studio\n",
      "Web Design\n",
      "Web Development\n",
      "Web Standards\n",
      "Windows 10\n",
      "XML\n",
      "Xdebug\n",
      "jQuery\n"
     ]
    }
   ],
   "source": [
    "sk = df['skills']\n",
    "s = set()\n",
    "# loop through Lists in skills Series\n",
    "for index, value in sk.items():\n",
    "    # loop through phrases in List\n",
    "    for strg in value:\n",
    "        # add phrase to set (set prevents duplicate entries)\n",
    "        s.add(strg)\n",
    "        \n",
    "print(f\"\\n\\nNumber of skills: {len(s)}\\n\")\n",
    "\n",
    "# print sorted set        \n",
    "for skill in sorted(s):\n",
    "    print(skill)"
   ]
  },
  {
   "cell_type": "code",
   "execution_count": null,
   "metadata": {},
   "outputs": [],
   "source": []
  },
  {
   "cell_type": "markdown",
   "metadata": {},
   "source": [
    "## May 2021 Courses"
   ]
  },
  {
   "cell_type": "code",
   "execution_count": 5,
   "metadata": {
    "scrolled": false
   },
   "outputs": [
    {
     "data": {
      "text/plain": [
       "1"
      ]
     },
     "execution_count": 5,
     "metadata": {},
     "output_type": "execute_result"
    }
   ],
   "source": [
    "may21_records = df[df['date_completed'].between('2021-05-01','2021-05-31')]\n",
    "may21_records['index'].count()"
   ]
  },
  {
   "cell_type": "code",
   "execution_count": 6,
   "metadata": {
    "scrolled": false
   },
   "outputs": [
    {
     "data": {
      "text/html": [
       "<div>\n",
       "<style scoped>\n",
       "    .dataframe tbody tr th:only-of-type {\n",
       "        vertical-align: middle;\n",
       "    }\n",
       "\n",
       "    .dataframe tbody tr th {\n",
       "        vertical-align: top;\n",
       "    }\n",
       "\n",
       "    .dataframe thead th {\n",
       "        text-align: right;\n",
       "    }\n",
       "</style>\n",
       "<table border=\"1\" class=\"dataframe\">\n",
       "  <thead>\n",
       "    <tr style=\"text-align: right;\">\n",
       "      <th></th>\n",
       "      <th>Course Title</th>\n",
       "      <th>Completion Date</th>\n",
       "    </tr>\n",
       "    <tr>\n",
       "      <th>#</th>\n",
       "      <th></th>\n",
       "      <th></th>\n",
       "    </tr>\n",
       "  </thead>\n",
       "  <tbody>\n",
       "    <tr>\n",
       "      <th>64</th>\n",
       "      <td>JSON Processing with Java EE</td>\n",
       "      <td>2021-05-04</td>\n",
       "    </tr>\n",
       "  </tbody>\n",
       "</table>\n",
       "</div>"
      ],
      "text/plain": [
       "                    Course Title Completion Date\n",
       "#                                               \n",
       "64  JSON Processing with Java EE      2021-05-04"
      ]
     },
     "execution_count": 6,
     "metadata": {},
     "output_type": "execute_result"
    }
   ],
   "source": [
    "may21_records[['index','title','date_completed']].rename(columns={'index': '#', 'title': 'Course Title', 'date_completed': 'Completion Date'}).set_index('#')"
   ]
  },
  {
   "cell_type": "markdown",
   "metadata": {},
   "source": [
    "## April 2021 Courses"
   ]
  },
  {
   "cell_type": "code",
   "execution_count": 24,
   "metadata": {
    "scrolled": false
   },
   "outputs": [],
   "source": [
    "apr21_records = df[df['date_completed'].between('2021-04-01','2021-04-30')]\n",
    "# apr21_records['index'].count()\n",
    "# print(\"{0} courses completed in April 2021.\".format(apr21_records['index'].count()))\n",
    "# print(f\"{apr21_records['index'].count()} courses completed in April 2021.\")\n"
   ]
  },
  {
   "cell_type": "code",
   "execution_count": 25,
   "metadata": {
    "scrolled": false
   },
   "outputs": [
    {
     "name": "stdout",
     "output_type": "stream",
     "text": [
      "\n",
      "\n",
      "8 courses completed in April 2021.\n",
      "\n"
     ]
    },
    {
     "data": {
      "text/html": [
       "<div>\n",
       "<style scoped>\n",
       "    .dataframe tbody tr th:only-of-type {\n",
       "        vertical-align: middle;\n",
       "    }\n",
       "\n",
       "    .dataframe tbody tr th {\n",
       "        vertical-align: top;\n",
       "    }\n",
       "\n",
       "    .dataframe thead th {\n",
       "        text-align: right;\n",
       "    }\n",
       "</style>\n",
       "<table border=\"1\" class=\"dataframe\">\n",
       "  <thead>\n",
       "    <tr style=\"text-align: right;\">\n",
       "      <th></th>\n",
       "      <th>Course Title</th>\n",
       "      <th>Completion Date</th>\n",
       "    </tr>\n",
       "    <tr>\n",
       "      <th>#</th>\n",
       "      <th></th>\n",
       "      <th></th>\n",
       "    </tr>\n",
       "  </thead>\n",
       "  <tbody>\n",
       "    <tr>\n",
       "      <th>63</th>\n",
       "      <td>Introducing Jupyter</td>\n",
       "      <td>2021-04-30</td>\n",
       "    </tr>\n",
       "    <tr>\n",
       "      <th>62</th>\n",
       "      <td>pandas Essential Training</td>\n",
       "      <td>2021-04-28</td>\n",
       "    </tr>\n",
       "    <tr>\n",
       "      <th>61</th>\n",
       "      <td>Data Ingestion with Python</td>\n",
       "      <td>2021-04-21</td>\n",
       "    </tr>\n",
       "    <tr>\n",
       "      <th>60</th>\n",
       "      <td>Learning JDBC</td>\n",
       "      <td>2021-04-15</td>\n",
       "    </tr>\n",
       "    <tr>\n",
       "      <th>59</th>\n",
       "      <td>Cloud Native Development with Node.js, Docker,...</td>\n",
       "      <td>2021-04-11</td>\n",
       "    </tr>\n",
       "    <tr>\n",
       "      <th>58</th>\n",
       "      <td>MySQL Essential Training</td>\n",
       "      <td>2021-04-05</td>\n",
       "    </tr>\n",
       "    <tr>\n",
       "      <th>57</th>\n",
       "      <td>MySQL Installation and Configuration</td>\n",
       "      <td>2021-04-03</td>\n",
       "    </tr>\n",
       "    <tr>\n",
       "      <th>56</th>\n",
       "      <td>Learning Bash Scripting</td>\n",
       "      <td>2021-04-02</td>\n",
       "    </tr>\n",
       "  </tbody>\n",
       "</table>\n",
       "</div>"
      ],
      "text/plain": [
       "                                         Course Title Completion Date\n",
       "#                                                                    \n",
       "63                                Introducing Jupyter      2021-04-30\n",
       "62                          pandas Essential Training      2021-04-28\n",
       "61                         Data Ingestion with Python      2021-04-21\n",
       "60                                      Learning JDBC      2021-04-15\n",
       "59  Cloud Native Development with Node.js, Docker,...      2021-04-11\n",
       "58                           MySQL Essential Training      2021-04-05\n",
       "57               MySQL Installation and Configuration      2021-04-03\n",
       "56                            Learning Bash Scripting      2021-04-02"
      ]
     },
     "execution_count": 25,
     "metadata": {},
     "output_type": "execute_result"
    }
   ],
   "source": [
    "print(f\"\\n\\n{apr21_records['index'].count()} courses completed in April 2021.\\n\")\n",
    "apr21_records[['index','title','date_completed']].rename(columns={'index': '#', 'title': 'Course Title', 'date_completed': 'Completion Date'}).set_index('#')"
   ]
  },
  {
   "cell_type": "markdown",
   "metadata": {},
   "source": [
    "## March 2021 Courses"
   ]
  },
  {
   "cell_type": "code",
   "execution_count": 9,
   "metadata": {
    "scrolled": false
   },
   "outputs": [
    {
     "name": "stdout",
     "output_type": "stream",
     "text": [
      "10 courses completed in March 2021.\n"
     ]
    }
   ],
   "source": [
    "mar21_records = df[df['date_completed'].between('2021-03-01','2021-03-31')]\n",
    "# mar21_records['index'].count()\n",
    "print(f\"{mar21_records['index'].count()} courses completed in March 2021.\")"
   ]
  },
  {
   "cell_type": "code",
   "execution_count": 10,
   "metadata": {
    "scrolled": false
   },
   "outputs": [
    {
     "data": {
      "text/html": [
       "<div>\n",
       "<style scoped>\n",
       "    .dataframe tbody tr th:only-of-type {\n",
       "        vertical-align: middle;\n",
       "    }\n",
       "\n",
       "    .dataframe tbody tr th {\n",
       "        vertical-align: top;\n",
       "    }\n",
       "\n",
       "    .dataframe thead th {\n",
       "        text-align: right;\n",
       "    }\n",
       "</style>\n",
       "<table border=\"1\" class=\"dataframe\">\n",
       "  <thead>\n",
       "    <tr style=\"text-align: right;\">\n",
       "      <th></th>\n",
       "      <th>Course Title</th>\n",
       "      <th>Completion Date</th>\n",
       "    </tr>\n",
       "    <tr>\n",
       "      <th>#</th>\n",
       "      <th></th>\n",
       "      <th></th>\n",
       "    </tr>\n",
       "  </thead>\n",
       "  <tbody>\n",
       "    <tr>\n",
       "      <th>55</th>\n",
       "      <td>Learning Windows Subsystem for Linux</td>\n",
       "      <td>2021-03-29</td>\n",
       "    </tr>\n",
       "    <tr>\n",
       "      <th>54</th>\n",
       "      <td>Blockchain Basics</td>\n",
       "      <td>2021-03-27</td>\n",
       "    </tr>\n",
       "    <tr>\n",
       "      <th>53</th>\n",
       "      <td>Designing RESTful APIs</td>\n",
       "      <td>2021-03-26</td>\n",
       "    </tr>\n",
       "    <tr>\n",
       "      <th>52</th>\n",
       "      <td>Learning Node.js</td>\n",
       "      <td>2021-03-25</td>\n",
       "    </tr>\n",
       "    <tr>\n",
       "      <th>51</th>\n",
       "      <td>Learning REST APIs</td>\n",
       "      <td>2021-03-19</td>\n",
       "    </tr>\n",
       "    <tr>\n",
       "      <th>50</th>\n",
       "      <td>Polyglot Web Development</td>\n",
       "      <td>2021-03-19</td>\n",
       "    </tr>\n",
       "    <tr>\n",
       "      <th>49</th>\n",
       "      <td>Python: XML, JSON, and the Web</td>\n",
       "      <td>2021-03-12</td>\n",
       "    </tr>\n",
       "    <tr>\n",
       "      <th>48</th>\n",
       "      <td>JavaScript and JSON: Integration Techniques</td>\n",
       "      <td>2021-03-08</td>\n",
       "    </tr>\n",
       "    <tr>\n",
       "      <th>47</th>\n",
       "      <td>JavaScript and AJAX: Integration Techniques</td>\n",
       "      <td>2021-03-06</td>\n",
       "    </tr>\n",
       "    <tr>\n",
       "      <th>46</th>\n",
       "      <td>Advanced PHP: Debugging Techniques</td>\n",
       "      <td>2021-03-03</td>\n",
       "    </tr>\n",
       "  </tbody>\n",
       "</table>\n",
       "</div>"
      ],
      "text/plain": [
       "                                   Course Title Completion Date\n",
       "#                                                              \n",
       "55         Learning Windows Subsystem for Linux      2021-03-29\n",
       "54                            Blockchain Basics      2021-03-27\n",
       "53                       Designing RESTful APIs      2021-03-26\n",
       "52                             Learning Node.js      2021-03-25\n",
       "51                           Learning REST APIs      2021-03-19\n",
       "50                     Polyglot Web Development      2021-03-19\n",
       "49               Python: XML, JSON, and the Web      2021-03-12\n",
       "48  JavaScript and JSON: Integration Techniques      2021-03-08\n",
       "47  JavaScript and AJAX: Integration Techniques      2021-03-06\n",
       "46           Advanced PHP: Debugging Techniques      2021-03-03"
      ]
     },
     "execution_count": 10,
     "metadata": {},
     "output_type": "execute_result"
    }
   ],
   "source": [
    "mar21_records[['index','title','date_completed']].rename(columns={'index': '#', 'title': 'Course Title', 'date_completed': 'Completion Date'}).set_index('#')"
   ]
  },
  {
   "cell_type": "markdown",
   "metadata": {},
   "source": [
    "## February 2021 Courses"
   ]
  },
  {
   "cell_type": "code",
   "execution_count": 11,
   "metadata": {
    "scrolled": false
   },
   "outputs": [
    {
     "name": "stdout",
     "output_type": "stream",
     "text": [
      "8 courses completed in February 2021.\n"
     ]
    }
   ],
   "source": [
    "feb21_records = df[df['date_completed'].between('2021-02-01','2021-02-28')]\n",
    "# feb21_records['index'].count()\n",
    "print(f\"{feb21_records['index'].count()} courses completed in February 2021.\")"
   ]
  },
  {
   "cell_type": "code",
   "execution_count": 12,
   "metadata": {
    "scrolled": false
   },
   "outputs": [
    {
     "data": {
      "text/html": [
       "<div>\n",
       "<style scoped>\n",
       "    .dataframe tbody tr th:only-of-type {\n",
       "        vertical-align: middle;\n",
       "    }\n",
       "\n",
       "    .dataframe tbody tr th {\n",
       "        vertical-align: top;\n",
       "    }\n",
       "\n",
       "    .dataframe thead th {\n",
       "        text-align: right;\n",
       "    }\n",
       "</style>\n",
       "<table border=\"1\" class=\"dataframe\">\n",
       "  <thead>\n",
       "    <tr style=\"text-align: right;\">\n",
       "      <th></th>\n",
       "      <th>Course Title</th>\n",
       "      <th>Completion Date</th>\n",
       "    </tr>\n",
       "    <tr>\n",
       "      <th>#</th>\n",
       "      <th></th>\n",
       "      <th></th>\n",
       "    </tr>\n",
       "  </thead>\n",
       "  <tbody>\n",
       "    <tr>\n",
       "      <th>45</th>\n",
       "      <td>Docker for Data Scientists</td>\n",
       "      <td>2021-02-25</td>\n",
       "    </tr>\n",
       "    <tr>\n",
       "      <th>44</th>\n",
       "      <td>Docker for .NET Developers with Visual Studio</td>\n",
       "      <td>2021-02-24</td>\n",
       "    </tr>\n",
       "    <tr>\n",
       "      <th>43</th>\n",
       "      <td>Learning PHP</td>\n",
       "      <td>2021-02-23</td>\n",
       "    </tr>\n",
       "    <tr>\n",
       "      <th>42</th>\n",
       "      <td>Advanced Java Programming</td>\n",
       "      <td>2021-02-18</td>\n",
       "    </tr>\n",
       "    <tr>\n",
       "      <th>41</th>\n",
       "      <td>C#: Interfaces and Generics</td>\n",
       "      <td>2021-02-10</td>\n",
       "    </tr>\n",
       "    <tr>\n",
       "      <th>40</th>\n",
       "      <td>C#: Delegates, Events and Lambdas</td>\n",
       "      <td>2021-02-07</td>\n",
       "    </tr>\n",
       "    <tr>\n",
       "      <th>39</th>\n",
       "      <td>C#: Collections</td>\n",
       "      <td>2021-02-04</td>\n",
       "    </tr>\n",
       "    <tr>\n",
       "      <th>38</th>\n",
       "      <td>Leading without Formal Authority</td>\n",
       "      <td>2021-02-01</td>\n",
       "    </tr>\n",
       "  </tbody>\n",
       "</table>\n",
       "</div>"
      ],
      "text/plain": [
       "                                     Course Title Completion Date\n",
       "#                                                                \n",
       "45                     Docker for Data Scientists      2021-02-25\n",
       "44  Docker for .NET Developers with Visual Studio      2021-02-24\n",
       "43                                   Learning PHP      2021-02-23\n",
       "42                      Advanced Java Programming      2021-02-18\n",
       "41                    C#: Interfaces and Generics      2021-02-10\n",
       "40              C#: Delegates, Events and Lambdas      2021-02-07\n",
       "39                                C#: Collections      2021-02-04\n",
       "38               Leading without Formal Authority      2021-02-01"
      ]
     },
     "execution_count": 12,
     "metadata": {},
     "output_type": "execute_result"
    }
   ],
   "source": [
    "feb21_records[['index','title','date_completed']].rename(columns={'index': '#', 'title': 'Course Title', 'date_completed': 'Completion Date'}).set_index('#')"
   ]
  },
  {
   "cell_type": "markdown",
   "metadata": {},
   "source": [
    "## January 2021 Courses"
   ]
  },
  {
   "cell_type": "code",
   "execution_count": 13,
   "metadata": {
    "scrolled": false
   },
   "outputs": [
    {
     "name": "stdout",
     "output_type": "stream",
     "text": [
      "11 courses completed in January 2021.\n"
     ]
    }
   ],
   "source": [
    "jan21_records = df[df['date_completed'].between('2021-01-01','2021-01-31')]\n",
    "# jan21_records['index'].count()\n",
    "print(f\"{jan21_records['index'].count()} courses completed in January 2021.\")"
   ]
  },
  {
   "cell_type": "code",
   "execution_count": 14,
   "metadata": {
    "scrolled": false
   },
   "outputs": [
    {
     "data": {
      "text/html": [
       "<div>\n",
       "<style scoped>\n",
       "    .dataframe tbody tr th:only-of-type {\n",
       "        vertical-align: middle;\n",
       "    }\n",
       "\n",
       "    .dataframe tbody tr th {\n",
       "        vertical-align: top;\n",
       "    }\n",
       "\n",
       "    .dataframe thead th {\n",
       "        text-align: right;\n",
       "    }\n",
       "</style>\n",
       "<table border=\"1\" class=\"dataframe\">\n",
       "  <thead>\n",
       "    <tr style=\"text-align: right;\">\n",
       "      <th></th>\n",
       "      <th>Course Title</th>\n",
       "      <th>Completion Date</th>\n",
       "    </tr>\n",
       "    <tr>\n",
       "      <th>#</th>\n",
       "      <th></th>\n",
       "      <th></th>\n",
       "    </tr>\n",
       "  </thead>\n",
       "  <tbody>\n",
       "    <tr>\n",
       "      <th>37</th>\n",
       "      <td>Excel: Lookup Functions in Depth</td>\n",
       "      <td>2021-01-29</td>\n",
       "    </tr>\n",
       "    <tr>\n",
       "      <th>36</th>\n",
       "      <td>Excel: Power Pivot for Beginners</td>\n",
       "      <td>2021-01-27</td>\n",
       "    </tr>\n",
       "    <tr>\n",
       "      <th>35</th>\n",
       "      <td>Excel: PivotTables for Beginners</td>\n",
       "      <td>2021-01-26</td>\n",
       "    </tr>\n",
       "    <tr>\n",
       "      <th>34</th>\n",
       "      <td>Implementing a Data Warehouse SQL Server 2019</td>\n",
       "      <td>2021-01-19</td>\n",
       "    </tr>\n",
       "    <tr>\n",
       "      <th>33</th>\n",
       "      <td>IoT Foundations: Fundamentals</td>\n",
       "      <td>2021-01-18</td>\n",
       "    </tr>\n",
       "    <tr>\n",
       "      <th>32</th>\n",
       "      <td>SQL Server: Reporting Services</td>\n",
       "      <td>2021-01-18</td>\n",
       "    </tr>\n",
       "    <tr>\n",
       "      <th>31</th>\n",
       "      <td>SQL Server Integration Services</td>\n",
       "      <td>2021-01-15</td>\n",
       "    </tr>\n",
       "    <tr>\n",
       "      <th>30</th>\n",
       "      <td>Learning MongoDB</td>\n",
       "      <td>2021-01-08</td>\n",
       "    </tr>\n",
       "    <tr>\n",
       "      <th>29</th>\n",
       "      <td>SAP ERP Essential Training (2018)</td>\n",
       "      <td>2021-01-07</td>\n",
       "    </tr>\n",
       "    <tr>\n",
       "      <th>28</th>\n",
       "      <td>HTML5: Geolocation</td>\n",
       "      <td>2021-01-03</td>\n",
       "    </tr>\n",
       "    <tr>\n",
       "      <th>27</th>\n",
       "      <td>Python Essential Training</td>\n",
       "      <td>2021-01-01</td>\n",
       "    </tr>\n",
       "  </tbody>\n",
       "</table>\n",
       "</div>"
      ],
      "text/plain": [
       "                                     Course Title Completion Date\n",
       "#                                                                \n",
       "37               Excel: Lookup Functions in Depth      2021-01-29\n",
       "36               Excel: Power Pivot for Beginners      2021-01-27\n",
       "35               Excel: PivotTables for Beginners      2021-01-26\n",
       "34  Implementing a Data Warehouse SQL Server 2019      2021-01-19\n",
       "33                  IoT Foundations: Fundamentals      2021-01-18\n",
       "32                 SQL Server: Reporting Services      2021-01-18\n",
       "31                SQL Server Integration Services      2021-01-15\n",
       "30                               Learning MongoDB      2021-01-08\n",
       "29              SAP ERP Essential Training (2018)      2021-01-07\n",
       "28                             HTML5: Geolocation      2021-01-03\n",
       "27                      Python Essential Training      2021-01-01"
      ]
     },
     "execution_count": 14,
     "metadata": {},
     "output_type": "execute_result"
    }
   ],
   "source": [
    "jan21_records[['index','title','date_completed']].rename(columns={'index': '#', 'title': 'Course Title', 'date_completed': 'Completion Date'}).set_index('#')"
   ]
  },
  {
   "cell_type": "markdown",
   "metadata": {},
   "source": [
    "## December 2020 Courses"
   ]
  },
  {
   "cell_type": "code",
   "execution_count": 15,
   "metadata": {
    "scrolled": false
   },
   "outputs": [
    {
     "name": "stdout",
     "output_type": "stream",
     "text": [
      "4 courses completed in December 2020.\n"
     ]
    }
   ],
   "source": [
    "dec20_records = df[df['date_completed'].between('2020-12-01','2020-12-31')]\n",
    "# dec20_records['index'].count()\n",
    "print(f\"{dec20_records['index'].count()} courses completed in December 2020.\")"
   ]
  },
  {
   "cell_type": "code",
   "execution_count": 16,
   "metadata": {
    "scrolled": false
   },
   "outputs": [
    {
     "data": {
      "text/html": [
       "<div>\n",
       "<style scoped>\n",
       "    .dataframe tbody tr th:only-of-type {\n",
       "        vertical-align: middle;\n",
       "    }\n",
       "\n",
       "    .dataframe tbody tr th {\n",
       "        vertical-align: top;\n",
       "    }\n",
       "\n",
       "    .dataframe thead th {\n",
       "        text-align: right;\n",
       "    }\n",
       "</style>\n",
       "<table border=\"1\" class=\"dataframe\">\n",
       "  <thead>\n",
       "    <tr style=\"text-align: right;\">\n",
       "      <th></th>\n",
       "      <th>Course Title</th>\n",
       "      <th>Completion Date</th>\n",
       "    </tr>\n",
       "    <tr>\n",
       "      <th>#</th>\n",
       "      <th></th>\n",
       "      <th></th>\n",
       "    </tr>\n",
       "  </thead>\n",
       "  <tbody>\n",
       "    <tr>\n",
       "      <th>26</th>\n",
       "      <td>Cloud Computing Careers and Certifications: Fi...</td>\n",
       "      <td>2020-12-24</td>\n",
       "    </tr>\n",
       "    <tr>\n",
       "      <th>25</th>\n",
       "      <td>Visual Studio Code for Python Developers</td>\n",
       "      <td>2020-12-21</td>\n",
       "    </tr>\n",
       "    <tr>\n",
       "      <th>24</th>\n",
       "      <td>jQuery for Web Designers</td>\n",
       "      <td>2020-12-19</td>\n",
       "    </tr>\n",
       "    <tr>\n",
       "      <th>23</th>\n",
       "      <td>JavaScript for Web Designers</td>\n",
       "      <td>2020-12-13</td>\n",
       "    </tr>\n",
       "  </tbody>\n",
       "</table>\n",
       "</div>"
      ],
      "text/plain": [
       "                                         Course Title Completion Date\n",
       "#                                                                    \n",
       "26  Cloud Computing Careers and Certifications: Fi...      2020-12-24\n",
       "25           Visual Studio Code for Python Developers      2020-12-21\n",
       "24                           jQuery for Web Designers      2020-12-19\n",
       "23                       JavaScript for Web Designers      2020-12-13"
      ]
     },
     "execution_count": 16,
     "metadata": {},
     "output_type": "execute_result"
    }
   ],
   "source": [
    "dec20_records[['index','title','date_completed']].rename(columns={'index': '#', 'title': 'Course Title', 'date_completed': 'Completion Date'}).set_index('#')"
   ]
  },
  {
   "cell_type": "markdown",
   "metadata": {},
   "source": [
    "## November 2020 Courses"
   ]
  },
  {
   "cell_type": "code",
   "execution_count": 17,
   "metadata": {
    "scrolled": false
   },
   "outputs": [
    {
     "name": "stdout",
     "output_type": "stream",
     "text": [
      "7 courses completed in November 2020.\n"
     ]
    }
   ],
   "source": [
    "nov20_records = df[df['date_completed'].between('2020-11-01','2020-11-30')]\n",
    "# nov20_records['index'].count()\n",
    "print(f\"{nov20_records['index'].count()} courses completed in November 2020.\")"
   ]
  },
  {
   "cell_type": "code",
   "execution_count": 18,
   "metadata": {
    "scrolled": false,
    "slideshow": {
     "slide_type": "skip"
    }
   },
   "outputs": [
    {
     "data": {
      "text/html": [
       "<div>\n",
       "<style scoped>\n",
       "    .dataframe tbody tr th:only-of-type {\n",
       "        vertical-align: middle;\n",
       "    }\n",
       "\n",
       "    .dataframe tbody tr th {\n",
       "        vertical-align: top;\n",
       "    }\n",
       "\n",
       "    .dataframe thead th {\n",
       "        text-align: right;\n",
       "    }\n",
       "</style>\n",
       "<table border=\"1\" class=\"dataframe\">\n",
       "  <thead>\n",
       "    <tr style=\"text-align: right;\">\n",
       "      <th></th>\n",
       "      <th>Course Title</th>\n",
       "      <th>Completion Date</th>\n",
       "    </tr>\n",
       "    <tr>\n",
       "      <th>#</th>\n",
       "      <th></th>\n",
       "      <th></th>\n",
       "    </tr>\n",
       "  </thead>\n",
       "  <tbody>\n",
       "    <tr>\n",
       "      <th>22</th>\n",
       "      <td>SQL Tips, Tricks, &amp; Techniques</td>\n",
       "      <td>2020-11-28</td>\n",
       "    </tr>\n",
       "    <tr>\n",
       "      <th>21</th>\n",
       "      <td>Learning JavaScript Debugging</td>\n",
       "      <td>2020-11-27</td>\n",
       "    </tr>\n",
       "    <tr>\n",
       "      <th>20</th>\n",
       "      <td>Succeeding in Web Development: Full Stack and ...</td>\n",
       "      <td>2020-11-20</td>\n",
       "    </tr>\n",
       "    <tr>\n",
       "      <th>19</th>\n",
       "      <td>Innovative Customer Service Techniques</td>\n",
       "      <td>2020-11-20</td>\n",
       "    </tr>\n",
       "    <tr>\n",
       "      <th>18</th>\n",
       "      <td>Learning Docker</td>\n",
       "      <td>2020-11-20</td>\n",
       "    </tr>\n",
       "    <tr>\n",
       "      <th>17</th>\n",
       "      <td>Learning GitHub</td>\n",
       "      <td>2020-11-09</td>\n",
       "    </tr>\n",
       "    <tr>\n",
       "      <th>16</th>\n",
       "      <td>Learning C++</td>\n",
       "      <td>2020-11-04</td>\n",
       "    </tr>\n",
       "  </tbody>\n",
       "</table>\n",
       "</div>"
      ],
      "text/plain": [
       "                                         Course Title Completion Date\n",
       "#                                                                    \n",
       "22                     SQL Tips, Tricks, & Techniques      2020-11-28\n",
       "21                      Learning JavaScript Debugging      2020-11-27\n",
       "20  Succeeding in Web Development: Full Stack and ...      2020-11-20\n",
       "19             Innovative Customer Service Techniques      2020-11-20\n",
       "18                                    Learning Docker      2020-11-20\n",
       "17                                    Learning GitHub      2020-11-09\n",
       "16                                       Learning C++      2020-11-04"
      ]
     },
     "execution_count": 18,
     "metadata": {},
     "output_type": "execute_result"
    }
   ],
   "source": [
    "nov20_records[['index','title','date_completed']].rename(columns={'index': '#', 'title': 'Course Title', 'date_completed': 'Completion Date'}).set_index('#')"
   ]
  },
  {
   "cell_type": "markdown",
   "metadata": {},
   "source": [
    "## October 2020 Courses"
   ]
  },
  {
   "cell_type": "code",
   "execution_count": 19,
   "metadata": {
    "scrolled": false
   },
   "outputs": [
    {
     "name": "stdout",
     "output_type": "stream",
     "text": [
      "11 courses completed in October 2020.\n"
     ]
    }
   ],
   "source": [
    "oct20_records = df[df['date_completed'].between('2020-10-01','2020-10-31')]\n",
    "# oct20_records['index'].count()\n",
    "print(f\"{oct20_records['index'].count()} courses completed in October 2020.\")"
   ]
  },
  {
   "cell_type": "code",
   "execution_count": 20,
   "metadata": {
    "scrolled": false
   },
   "outputs": [
    {
     "data": {
      "text/html": [
       "<div>\n",
       "<style scoped>\n",
       "    .dataframe tbody tr th:only-of-type {\n",
       "        vertical-align: middle;\n",
       "    }\n",
       "\n",
       "    .dataframe tbody tr th {\n",
       "        vertical-align: top;\n",
       "    }\n",
       "\n",
       "    .dataframe thead th {\n",
       "        text-align: right;\n",
       "    }\n",
       "</style>\n",
       "<table border=\"1\" class=\"dataframe\">\n",
       "  <thead>\n",
       "    <tr style=\"text-align: right;\">\n",
       "      <th></th>\n",
       "      <th>Course Title</th>\n",
       "      <th>Completion Date</th>\n",
       "    </tr>\n",
       "    <tr>\n",
       "      <th>#</th>\n",
       "      <th></th>\n",
       "      <th></th>\n",
       "    </tr>\n",
       "  </thead>\n",
       "  <tbody>\n",
       "    <tr>\n",
       "      <th>15</th>\n",
       "      <td>C# &amp; .NET: Programming</td>\n",
       "      <td>2020-10-23</td>\n",
       "    </tr>\n",
       "    <tr>\n",
       "      <th>14</th>\n",
       "      <td>Java Essential Training: Objects and APIs</td>\n",
       "      <td>2020-10-20</td>\n",
       "    </tr>\n",
       "    <tr>\n",
       "      <th>13</th>\n",
       "      <td>Learning Java</td>\n",
       "      <td>2020-10-17</td>\n",
       "    </tr>\n",
       "    <tr>\n",
       "      <th>12</th>\n",
       "      <td>Installing Apache, MySQL, and PHP</td>\n",
       "      <td>2020-10-17</td>\n",
       "    </tr>\n",
       "    <tr>\n",
       "      <th>11</th>\n",
       "      <td>Learning Regular Expressions</td>\n",
       "      <td>2020-10-13</td>\n",
       "    </tr>\n",
       "    <tr>\n",
       "      <th>10</th>\n",
       "      <td>Learning the JavaScript Language</td>\n",
       "      <td>2020-10-12</td>\n",
       "    </tr>\n",
       "    <tr>\n",
       "      <th>9</th>\n",
       "      <td>Phone-Based Customer Service</td>\n",
       "      <td>2020-10-09</td>\n",
       "    </tr>\n",
       "    <tr>\n",
       "      <th>8</th>\n",
       "      <td>Introduction to CSS</td>\n",
       "      <td>2020-10-09</td>\n",
       "    </tr>\n",
       "    <tr>\n",
       "      <th>7</th>\n",
       "      <td>Working with Upset Customers</td>\n",
       "      <td>2020-10-08</td>\n",
       "    </tr>\n",
       "    <tr>\n",
       "      <th>6</th>\n",
       "      <td>Learn API Documentation with JSON and XML</td>\n",
       "      <td>2020-10-05</td>\n",
       "    </tr>\n",
       "    <tr>\n",
       "      <th>5</th>\n",
       "      <td>Learning Python</td>\n",
       "      <td>2020-10-03</td>\n",
       "    </tr>\n",
       "  </tbody>\n",
       "</table>\n",
       "</div>"
      ],
      "text/plain": [
       "                                 Course Title Completion Date\n",
       "#                                                            \n",
       "15                     C# & .NET: Programming      2020-10-23\n",
       "14  Java Essential Training: Objects and APIs      2020-10-20\n",
       "13                              Learning Java      2020-10-17\n",
       "12          Installing Apache, MySQL, and PHP      2020-10-17\n",
       "11               Learning Regular Expressions      2020-10-13\n",
       "10           Learning the JavaScript Language      2020-10-12\n",
       "9                Phone-Based Customer Service      2020-10-09\n",
       "8                         Introduction to CSS      2020-10-09\n",
       "7                Working with Upset Customers      2020-10-08\n",
       "6   Learn API Documentation with JSON and XML      2020-10-05\n",
       "5                             Learning Python      2020-10-03"
      ]
     },
     "execution_count": 20,
     "metadata": {},
     "output_type": "execute_result"
    }
   ],
   "source": [
    "oct20_records[['index','title','date_completed']].rename(columns={'index': '#', 'title': 'Course Title', 'date_completed': 'Completion Date'}).set_index('#')"
   ]
  },
  {
   "cell_type": "markdown",
   "metadata": {},
   "source": [
    "## September 2020 Courses"
   ]
  },
  {
   "cell_type": "code",
   "execution_count": 21,
   "metadata": {
    "scrolled": false,
    "slideshow": {
     "slide_type": "skip"
    }
   },
   "outputs": [
    {
     "name": "stdout",
     "output_type": "stream",
     "text": [
      "4 courses completed in September 2020.\n"
     ]
    }
   ],
   "source": [
    "sep20_records = df[df['date_completed'].between('2020-09-01','2020-09-30')]\n",
    "# sep20_records['index'].count()\n",
    "print(f\"{sep20_records['index'].count()} courses completed in September 2020.\")"
   ]
  },
  {
   "cell_type": "code",
   "execution_count": 22,
   "metadata": {
    "scrolled": false,
    "slideshow": {
     "slide_type": "skip"
    }
   },
   "outputs": [
    {
     "data": {
      "text/html": [
       "<div>\n",
       "<style scoped>\n",
       "    .dataframe tbody tr th:only-of-type {\n",
       "        vertical-align: middle;\n",
       "    }\n",
       "\n",
       "    .dataframe tbody tr th {\n",
       "        vertical-align: top;\n",
       "    }\n",
       "\n",
       "    .dataframe thead th {\n",
       "        text-align: right;\n",
       "    }\n",
       "</style>\n",
       "<table border=\"1\" class=\"dataframe\">\n",
       "  <thead>\n",
       "    <tr style=\"text-align: right;\">\n",
       "      <th></th>\n",
       "      <th>Course Title</th>\n",
       "      <th>Completion Date</th>\n",
       "    </tr>\n",
       "    <tr>\n",
       "      <th>#</th>\n",
       "      <th></th>\n",
       "      <th></th>\n",
       "    </tr>\n",
       "  </thead>\n",
       "  <tbody>\n",
       "    <tr>\n",
       "      <th>4</th>\n",
       "      <td>Visual Studio Code for Web Developers</td>\n",
       "      <td>2020-09-30</td>\n",
       "    </tr>\n",
       "    <tr>\n",
       "      <th>3</th>\n",
       "      <td>Learning PowerShell</td>\n",
       "      <td>2020-09-26</td>\n",
       "    </tr>\n",
       "    <tr>\n",
       "      <th>2</th>\n",
       "      <td>Technical Writing: Quick Start Guides</td>\n",
       "      <td>2020-09-25</td>\n",
       "    </tr>\n",
       "    <tr>\n",
       "      <th>1</th>\n",
       "      <td>Learning Linux Command Line</td>\n",
       "      <td>2020-09-25</td>\n",
       "    </tr>\n",
       "  </tbody>\n",
       "</table>\n",
       "</div>"
      ],
      "text/plain": [
       "                            Course Title Completion Date\n",
       "#                                                       \n",
       "4  Visual Studio Code for Web Developers      2020-09-30\n",
       "3                    Learning PowerShell      2020-09-26\n",
       "2  Technical Writing: Quick Start Guides      2020-09-25\n",
       "1            Learning Linux Command Line      2020-09-25"
      ]
     },
     "execution_count": 22,
     "metadata": {},
     "output_type": "execute_result"
    }
   ],
   "source": [
    "sep20_records[['index','title','date_completed']].rename(columns={'index': '#', 'title': 'Course Title', 'date_completed': 'Completion Date'}).set_index('#')"
   ]
  },
  {
   "cell_type": "code",
   "execution_count": null,
   "metadata": {
    "scrolled": false
   },
   "outputs": [],
   "source": []
  },
  {
   "cell_type": "code",
   "execution_count": null,
   "metadata": {},
   "outputs": [],
   "source": []
  }
 ],
 "metadata": {
  "kernelspec": {
   "display_name": "Python 3",
   "language": "python",
   "name": "python3"
  },
  "language_info": {
   "codemirror_mode": {
    "name": "ipython",
    "version": 3
   },
   "file_extension": ".py",
   "mimetype": "text/x-python",
   "name": "python",
   "nbconvert_exporter": "python",
   "pygments_lexer": "ipython3",
   "version": "3.8.5"
  }
 },
 "nbformat": 4,
 "nbformat_minor": 2
}
